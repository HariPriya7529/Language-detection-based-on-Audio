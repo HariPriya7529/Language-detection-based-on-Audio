{
 "cells": [
  {
   "cell_type": "code",
   "execution_count": 2,
   "id": "320ca408",
   "metadata": {},
   "outputs": [],
   "source": [
    "import os\n",
    "import pandas as pd"
   ]
  },
  {
   "cell_type": "markdown",
   "id": "fb865653",
   "metadata": {},
   "source": [
    "# Taking file from locally downloaded dateset"
   ]
  },
  {
   "cell_type": "code",
   "execution_count": 3,
   "id": "97e47408",
   "metadata": {},
   "outputs": [],
   "source": [
    "df=pd.DataFrame()\n",
    "files=[file for file in os.listdir('./Data/Train/Bengali1')]\n",
    "df['File']=files\n",
    "df['Language']=\"Bengali\"\n"
   ]
  },
  {
   "cell_type": "code",
   "execution_count": 4,
   "id": "9bb1f8f5",
   "metadata": {},
   "outputs": [],
   "source": [
    "df1=pd.DataFrame()\n",
    "files=[file for file in os.listdir('./Data/Train/Gujrathi1')]\n",
    "df1['File']=files\n",
    "df1['Language']=\"Gujrathi\"\n"
   ]
  },
  {
   "cell_type": "code",
   "execution_count": 5,
   "id": "eca5b0d0",
   "metadata": {},
   "outputs": [],
   "source": [
    "df2=pd.DataFrame()\n",
    "files=[file for file in os.listdir('./Data/Train/Hindi1')]\n",
    "df2['File']=files\n",
    "df2['Language']=\"Hindi\"\n"
   ]
  },
  {
   "cell_type": "code",
   "execution_count": 6,
   "id": "08388d3d",
   "metadata": {},
   "outputs": [],
   "source": [
    "df3=pd.DataFrame()\n",
    "files=[file for file in os.listdir('./Data/Train/Kannada1')]\n",
    "df3['File']=files\n",
    "df3['Language']=\"Kannada\"\n"
   ]
  },
  {
   "cell_type": "code",
   "execution_count": 7,
   "id": "e0a42a60",
   "metadata": {},
   "outputs": [],
   "source": [
    "df4=pd.DataFrame()\n",
    "files=[file for file in os.listdir('./Data/Train/Punjabi1')]\n",
    "df4['File']=files\n",
    "df4['Language']=\"Punjabi\"\n"
   ]
  },
  {
   "cell_type": "code",
   "execution_count": 8,
   "id": "a0480e80",
   "metadata": {},
   "outputs": [],
   "source": [
    "df5=pd.DataFrame()\n",
    "files=[file for file in os.listdir('./Data/Train/Urdu1')]\n",
    "df5['File']=files\n",
    "df5['Language']=\"Urdu\"\n"
   ]
  },
  {
   "cell_type": "code",
   "execution_count": 9,
   "id": "9044386a",
   "metadata": {},
   "outputs": [],
   "source": [
    "df6=pd.DataFrame()\n",
    "files=[file for file in os.listdir('./Data/Train/Tamil1')]\n",
    "df6['File']=files\n",
    "df6['Language']=\"Tamil\"\n"
   ]
  },
  {
   "cell_type": "code",
   "execution_count": 10,
   "id": "b9412676",
   "metadata": {},
   "outputs": [],
   "source": [
    "df7=pd.DataFrame()\n",
    "files=[file for file in os.listdir('./Data/Train/Malyalam1')]\n",
    "df7['File']=files\n",
    "df7['Language']=\"Malyalam\"\n"
   ]
  },
  {
   "cell_type": "code",
   "execution_count": 11,
   "id": "a38d1726",
   "metadata": {},
   "outputs": [],
   "source": [
    "df8=pd.DataFrame()\n",
    "files=[file for file in os.listdir('./Data/Train/Marathi1')]\n",
    "df8['File']=files\n",
    "df8['Language']=\"Marathi\"\n"
   ]
  },
  {
   "cell_type": "code",
   "execution_count": 12,
   "id": "a212b910",
   "metadata": {},
   "outputs": [],
   "source": [
    "df9=pd.DataFrame()\n",
    "files=[file for file in os.listdir('./Data/Train/Telugu1')]\n",
    "df9['File']=files\n",
    "df9['Language']=\"Telugu\"\n"
   ]
  },
  {
   "cell_type": "code",
   "execution_count": 13,
   "id": "a571d744",
   "metadata": {},
   "outputs": [
    {
     "data": {
      "text/html": [
       "<div>\n",
       "<style scoped>\n",
       "    .dataframe tbody tr th:only-of-type {\n",
       "        vertical-align: middle;\n",
       "    }\n",
       "\n",
       "    .dataframe tbody tr th {\n",
       "        vertical-align: top;\n",
       "    }\n",
       "\n",
       "    .dataframe thead th {\n",
       "        text-align: right;\n",
       "    }\n",
       "</style>\n",
       "<table border=\"1\" class=\"dataframe\">\n",
       "  <thead>\n",
       "    <tr style=\"text-align: right;\">\n",
       "      <th></th>\n",
       "      <th>File</th>\n",
       "      <th>Language</th>\n",
       "    </tr>\n",
       "  </thead>\n",
       "  <tbody>\n",
       "    <tr>\n",
       "      <th>0</th>\n",
       "      <td>3616.mp3</td>\n",
       "      <td>Bengali</td>\n",
       "    </tr>\n",
       "    <tr>\n",
       "      <th>1</th>\n",
       "      <td>3617.mp3</td>\n",
       "      <td>Bengali</td>\n",
       "    </tr>\n",
       "    <tr>\n",
       "      <th>2</th>\n",
       "      <td>3618.mp3</td>\n",
       "      <td>Bengali</td>\n",
       "    </tr>\n",
       "    <tr>\n",
       "      <th>3</th>\n",
       "      <td>3619.mp3</td>\n",
       "      <td>Bengali</td>\n",
       "    </tr>\n",
       "    <tr>\n",
       "      <th>4</th>\n",
       "      <td>3620.mp3</td>\n",
       "      <td>Bengali</td>\n",
       "    </tr>\n",
       "    <tr>\n",
       "      <th>...</th>\n",
       "      <td>...</td>\n",
       "      <td>...</td>\n",
       "    </tr>\n",
       "    <tr>\n",
       "      <th>45</th>\n",
       "      <td>5131.mp3</td>\n",
       "      <td>Telugu</td>\n",
       "    </tr>\n",
       "    <tr>\n",
       "      <th>46</th>\n",
       "      <td>5132.mp3</td>\n",
       "      <td>Telugu</td>\n",
       "    </tr>\n",
       "    <tr>\n",
       "      <th>47</th>\n",
       "      <td>5133.mp3</td>\n",
       "      <td>Telugu</td>\n",
       "    </tr>\n",
       "    <tr>\n",
       "      <th>48</th>\n",
       "      <td>5134.mp3</td>\n",
       "      <td>Telugu</td>\n",
       "    </tr>\n",
       "    <tr>\n",
       "      <th>49</th>\n",
       "      <td>5135.mp3</td>\n",
       "      <td>Telugu</td>\n",
       "    </tr>\n",
       "  </tbody>\n",
       "</table>\n",
       "<p>500 rows × 2 columns</p>\n",
       "</div>"
      ],
      "text/plain": [
       "        File Language\n",
       "0   3616.mp3  Bengali\n",
       "1   3617.mp3  Bengali\n",
       "2   3618.mp3  Bengali\n",
       "3   3619.mp3  Bengali\n",
       "4   3620.mp3  Bengali\n",
       "..       ...      ...\n",
       "45  5131.mp3   Telugu\n",
       "46  5132.mp3   Telugu\n",
       "47  5133.mp3   Telugu\n",
       "48  5134.mp3   Telugu\n",
       "49  5135.mp3   Telugu\n",
       "\n",
       "[500 rows x 2 columns]"
      ]
     },
     "execution_count": 13,
     "metadata": {},
     "output_type": "execute_result"
    }
   ],
   "source": [
    "data=pd.DataFrame()\n",
    "data=pd.concat([df,df1,df2,df3,df4,df5,df6,df7,df8,df9])\n",
    "data"
   ]
  },
  {
   "cell_type": "markdown",
   "id": "b9521c99",
   "metadata": {},
   "source": [
    "# Exporting the list of files with their labels"
   ]
  },
  {
   "cell_type": "code",
   "execution_count": 13,
   "id": "fb06cd2d",
   "metadata": {},
   "outputs": [],
   "source": [
    "data.to_csv('list3.csv',index=True)"
   ]
  },
  {
   "cell_type": "code",
   "execution_count": null,
   "id": "c1cb1e76",
   "metadata": {},
   "outputs": [],
   "source": []
  }
 ],
 "metadata": {
  "kernelspec": {
   "display_name": "Python 3 (ipykernel)",
   "language": "python",
   "name": "python3"
  },
  "language_info": {
   "codemirror_mode": {
    "name": "ipython",
    "version": 3
   },
   "file_extension": ".py",
   "mimetype": "text/x-python",
   "name": "python",
   "nbconvert_exporter": "python",
   "pygments_lexer": "ipython3",
   "version": "3.9.12"
  }
 },
 "nbformat": 4,
 "nbformat_minor": 5
}
